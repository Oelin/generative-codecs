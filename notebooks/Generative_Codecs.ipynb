{
  "nbformat": 4,
  "nbformat_minor": 0,
  "metadata": {
    "colab": {
      "provenance": []
    },
    "kernelspec": {
      "name": "python3",
      "display_name": "Python 3"
    },
    "language_info": {
      "name": "python"
    }
  },
  "cells": [
    {
      "cell_type": "markdown",
      "source": [
        "# Codecs As Generative Models "
      ],
      "metadata": {
        "id": "maWLKIhu-ZUB"
      }
    },
    {
      "cell_type": "markdown",
      "source": [
        "In this notebook, we explore how to use codecs as generative models by sampling from their implicit distributions."
      ],
      "metadata": {
        "id": "gCq9-Z-0_G5C"
      }
    },
    {
      "cell_type": "markdown",
      "source": [
        "## 1. Introduction"
      ],
      "metadata": {
        "id": "Yxs-FXKH_-ZR"
      }
    },
    {
      "cell_type": "markdown",
      "source": [
        "A codec is an algorithm for compressing and decompressing data, often of a specific modality such as text or video. Codecs consist of a encoder/code, which describes data in a more concise form, and a decoder which reconstructs data from its encoding. We'll be concerning ourselves mainly with the former."
      ],
      "metadata": {
        "id": "-gtA4gO6AB9e"
      }
    },
    {
      "cell_type": "markdown",
      "source": [
        "Let $L_C(x)$ denote the length of $x$ when compressed using some code $C(\\cdot)$."
      ],
      "metadata": {
        "id": "TXbsu2-8BRW1"
      }
    },
    {
      "cell_type": "markdown",
      "source": [
        "According to the Kraft-McMillan inequality, if $C$ is uniquely decodable, then there exists a probability distribution $p_C$, such that $p_C(x) = 2^{- L_C(x)}$. In other words, for any uniquely decodable code, we can always find a *statistical model* which produces matching code-lengths.  "
      ],
      "metadata": {
        "id": "wjPZVq6ULA7q"
      }
    },
    {
      "cell_type": "markdown",
      "source": [
        "Now, since $p_C$ is a generative model, it should in theory be possible to sample from it. In this way, codecs can be used to *create* data rather than just compress it. Now, for many codecs, the generated data is unlikely to be very interesting because they aren't tuned to *specific* sources such as \"English text.\" Nonetheless, this exercise is useful for elucidating the implicit statistical assumptions present in human-designed compression schemes. "
      ],
      "metadata": {
        "id": "VCDIMM_yST39"
      }
    },
    {
      "cell_type": "markdown",
      "source": [
        "## 2. Method"
      ],
      "metadata": {
        "id": "3peyigj8T5wu"
      }
    },
    {
      "cell_type": "markdown",
      "source": [
        "Let's be a little more precise about what we're attempting to do. "
      ],
      "metadata": {
        "id": "otMUmjZhUKaw"
      }
    },
    {
      "cell_type": "markdown",
      "source": [
        "Given some code $C(\\cdot)$, we wish to sample from $p_C$ where $p_C(x) = 2^{-L_C(x)}$. "
      ],
      "metadata": {
        "id": "lZephgLXUQ3O"
      }
    },
    {
      "cell_type": "markdown",
      "source": [
        "1. At each time step $t$, we compute the distribution $p_C(x_1,\\dots,x_t) = 2^{-{L_C(x_1,\\dots,x_t)}}$. We then use top-k sampling to redistribute the probability mass amoungst $k$ *most likely* sequences."
      ],
      "metadata": {
        "id": "SsVjjn-IVS-w"
      }
    },
    {
      "cell_type": "markdown",
      "source": [
        "2. We then randomly sample from the top-k distribution and return to step 1."
      ],
      "metadata": {
        "id": "rLFdvHmKZFXm"
      }
    },
    {
      "cell_type": "markdown",
      "source": [
        "## 3. Implementation"
      ],
      "metadata": {
        "id": "ZLtoj_mHYNkL"
      }
    },
    {
      "cell_type": "code",
      "source": [
        "import zlib\n",
        "import math\n",
        "import numpy as np\n",
        "import torch"
      ],
      "metadata": {
        "id": "tKX1TRewVR_F"
      },
      "execution_count": null,
      "outputs": []
    },
    {
      "cell_type": "code",
      "source": [
        "#@markdown Codec sampler class...\n",
        "\n",
        "class CodecSampler:\n",
        "\n",
        "    def __init__(self, code, alphabet):\n",
        "        self.code = code\n",
        "        self.alphabet = alphabet\n",
        "    \n",
        "\n",
        "    def length(self, sequence):\n",
        "        return len(self.code(sequence)) * 8\n",
        "    \n",
        "\n",
        "    def complete(self, prompt, length=10, width=2, height=3):\n",
        "        \n",
        "        queue = [ prompt ]\n",
        "        result = []\n",
        "\n",
        "\n",
        "        while len(queue):\n",
        "\n",
        "            sequence = queue.pop()\n",
        "            lengths = [self.length(sequence + [token]) for token in self.alphabet]\n",
        "\n",
        "            # Find shortest encodings...\n",
        "\n",
        "            shortest = torch.topk(torch.tensor(lengths), k=width, largest=False)\n",
        "\n",
        "            for token in shortest.indices:\n",
        "\n",
        "                child = sequence + [token.item()]\n",
        "                array = result if len(child) == length else queue\n",
        "                array.append(child)\n",
        "        \n",
        "        lengths = [self.length(res) for res in result]\n",
        "        shortest = torch.topk(torch.tensor(lengths), k=height, largest=False)\n",
        "\n",
        "        return torch.tensor(result)[shortest.indices]\n",
        "\n",
        "    # def complete(self, sequence, size=10, width=2, height=3):\n",
        "\n",
        "    #     sequence = list(sequence)\n",
        "\n",
        "    #     for i in range(size):\n",
        "\n",
        "    #         lengths = [self.length(sequence + [token]) for token in range(self.alphabet)]\n",
        "    #         shortest = torch.topk(torch.tensor(lengths), k=width, largest=False)\n",
        "\n",
        "    #         probabilities = [1 / (2 ** (8 * (length/len(sequence)))) for length in shortest.values]\n",
        "    #         probabilities = np.array(probabilities)\n",
        "    #         probabilities = probabilities / probabilities.sum()\n",
        "\n",
        "\n",
        "    #         # TODO: apply tempurature\n",
        "\n",
        "    #         choice = np.random.choice(shortest.indices, p=probabilities)\n",
        "    #         sequence += [choice]\n",
        "        \n",
        "    #     return sequence\n",
        "        \n",
        "\n"
      ],
      "metadata": {
        "id": "2oQhe56seZIw"
      },
      "execution_count": null,
      "outputs": []
    },
    {
      "cell_type": "code",
      "source": [
        "import gzip"
      ],
      "metadata": {
        "id": "r4vcxULjyPgx"
      },
      "execution_count": null,
      "outputs": []
    },
    {
      "cell_type": "code",
      "source": [
        "a = CodecSampler(lambda x: zlib.compress(bytes(x)), alphabet=range(256))\n",
        "b = CodecSampler(lambda x: gzip.compress(bytes(x)), alphabet=range(256))"
      ],
      "metadata": {
        "id": "hCo9CTJuYquh"
      },
      "execution_count": null,
      "outputs": []
    },
    {
      "cell_type": "markdown",
      "source": [
        "Wow! This is really cool. `zlib` successfully continues the alternting pattern. Let's see what other patterns it tends to recognise."
      ],
      "metadata": {
        "id": "PEMT9HGPr7mX"
      }
    },
    {
      "cell_type": "code",
      "source": [
        "a.complete([1,2,3,4,5,6,7,8,9,10, 1,2,3], length=20)"
      ],
      "metadata": {
        "colab": {
          "base_uri": "https://localhost:8080/"
        },
        "id": "pHFy5tkNi6gB",
        "outputId": "552a82a3-5d02-452b-dd89-41f34f2bed77"
      },
      "execution_count": null,
      "outputs": [
        {
          "output_type": "execute_result",
          "data": {
            "text/plain": [
              "tensor([[ 1,  2,  3,  4,  5,  6,  7,  8,  9, 10,  1,  2,  3,  4,  5,  6,  7,  8,\n",
              "          9, 10],\n",
              "        [ 1,  2,  3,  4,  5,  6,  7,  8,  9, 10,  1,  2,  3,  4,  5,  6,  7,  8,\n",
              "          9,  0],\n",
              "        [ 1,  2,  3,  4,  5,  6,  7,  8,  9, 10,  1,  2,  3,  4,  5,  6,  7,  8,\n",
              "          0,  0]])"
            ]
          },
          "metadata": {},
          "execution_count": 7
        }
      ]
    },
    {
      "cell_type": "markdown",
      "source": [
        "In contrast, counting doesn't seem to be a pattern recognised. "
      ],
      "metadata": {
        "id": "r9zDb7HssdHq"
      }
    },
    {
      "cell_type": "code",
      "source": [
        "prompt = '''\n",
        "nucleus sampling also called top p sampling is a more advanced\n",
        "version of top sampling that results in a more consistent sampling \n",
        "performance it cuts between selectable and non selectable tokens \n",
        "based on the sum of their probabilities totaled bar heights when \n",
        "going from left to right on the linked picture until the specified \n",
        "cut value p is reached as opposed to top k sampling which cuts \n",
        "based on position index it can be used similarity to top k sampling \n",
        "you can combine low value of nucleus sampling with high value of \n",
        "randomness while the other sampling methods set to off to break out\n",
        "of loops with coherence once you ve got your head around how these \n",
        "work you can try layering settings it is difficult to explain \n",
        "sampling methods in simple terms without getting sloppy but it is \n",
        "not a complicated concept try to visualize the process using the \n",
        "bars as crutches randomness controls bar heights while sampling \n",
        "controls where the dividing line will be between bars that can be \n",
        "selected and bars tokens that will be discarded from participating in a'''.replace('\\n', ' ').replace('  ', ' ')"
      ],
      "metadata": {
        "id": "aiCI7RH-vRMd"
      },
      "execution_count": null,
      "outputs": []
    },
    {
      "cell_type": "code",
      "source": [
        "prompt_chunks = [prompt[i:i+2] for i in range(0, len(prompt), 2)]"
      ],
      "metadata": {
        "id": "yBV9JOk68Vtz"
      },
      "execution_count": null,
      "outputs": []
    },
    {
      "cell_type": "code",
      "source": [
        "vocabulary = list(set(prompt_chunks))"
      ],
      "metadata": {
        "id": "DWBcTijA7WTe"
      },
      "execution_count": null,
      "outputs": []
    },
    {
      "cell_type": "code",
      "source": [
        "len(vocabulary)"
      ],
      "metadata": {
        "colab": {
          "base_uri": "https://localhost:8080/"
        },
        "id": "dk4ahOef8dIk",
        "outputId": "75dc9e3d-d017-4677-f13b-df7c60b3921d"
      },
      "execution_count": null,
      "outputs": [
        {
          "output_type": "execute_result",
          "data": {
            "text/plain": [
              "184"
            ]
          },
          "metadata": {},
          "execution_count": 11
        }
      ]
    },
    {
      "cell_type": "code",
      "source": [
        "prompt_tokenized = [vocabulary.index(word) for word in prompt_chunks]"
      ],
      "metadata": {
        "id": "lNQQs2VavSSP"
      },
      "execution_count": null,
      "outputs": []
    },
    {
      "cell_type": "code",
      "source": [
        "len(bytes(prompt_tokenized))"
      ],
      "metadata": {
        "colab": {
          "base_uri": "https://localhost:8080/"
        },
        "id": "BPJwE0tu8-fJ",
        "outputId": "03b282b4-c8d1-4c74-8478-f0f4a8a65ddd"
      },
      "execution_count": null,
      "outputs": [
        {
          "output_type": "execute_result",
          "data": {
            "text/plain": [
              "527"
            ]
          },
          "metadata": {},
          "execution_count": 13
        }
      ]
    },
    {
      "cell_type": "code",
      "source": [
        "len(zlib.compress(bytes(prompt_tokenized)))"
      ],
      "metadata": {
        "colab": {
          "base_uri": "https://localhost:8080/"
        },
        "id": "z1VVbDRuvp-n",
        "outputId": "05681507-8503-44fe-c6a9-eee5970c5f0d"
      },
      "execution_count": null,
      "outputs": [
        {
          "output_type": "execute_result",
          "data": {
            "text/plain": [
              "511"
            ]
          },
          "metadata": {},
          "execution_count": 14
        }
      ]
    },
    {
      "cell_type": "code",
      "source": [
        "import random\n",
        "\n",
        "def get_next_token(prompt, model, n=5, width=2, height=2):\n",
        "\n",
        "    prompt = list(prompt)\n",
        "\n",
        "    for i in range(n):\n",
        "        completions = model.complete(prompt, width=width, height=height, length=len(prompt) + 3)\n",
        "        completion = random.choice(completions)[-3 :]\n",
        "        prompt += completion\n",
        "\n",
        "    #out = ''.join([vocabulary[val] for val in prompt])\n",
        "    #return out\n",
        "\n",
        "    return prompt\n",
        "    "
      ],
      "metadata": {
        "id": "3aKhkoTuzV5k"
      },
      "execution_count": null,
      "outputs": []
    },
    {
      "cell_type": "code",
      "source": [
        "def complete(x): return bytes(a.complete(list(bytes(x, 'ascii')), width=2, height=5, length=len(x) + 3)[0])"
      ],
      "metadata": {
        "id": "lk0BycNusMuI"
      },
      "execution_count": null,
      "outputs": []
    },
    {
      "cell_type": "code",
      "source": [
        "bytes(get_next_token(bytes('abcdabcd', 'ascii'), a, width=5, n=10))"
      ],
      "metadata": {
        "colab": {
          "base_uri": "https://localhost:8080/"
        },
        "id": "_OmfjMH2FKL-",
        "outputId": "168319f2-875f-486b-c35f-782e48d4cc8f"
      },
      "execution_count": null,
      "outputs": [
        {
          "output_type": "execute_result",
          "data": {
            "text/plain": [
              "b'abcdabcdabcdabcdabcdab\\xa9abcda\\xa9\\xa9\\xabbbbbbbb'"
            ]
          },
          "metadata": {},
          "execution_count": 17
        }
      ]
    },
    {
      "cell_type": "code",
      "source": [
        "!pip install python-rle"
      ],
      "metadata": {
        "colab": {
          "base_uri": "https://localhost:8080/"
        },
        "id": "2Of_TIPak5ix",
        "outputId": "4f673adf-c6b0-42f2-b499-9ed97b73a39f"
      },
      "execution_count": null,
      "outputs": [
        {
          "output_type": "stream",
          "name": "stdout",
          "text": [
            "Looking in indexes: https://pypi.org/simple, https://us-python.pkg.dev/colab-wheels/public/simple/\n",
            "Collecting python-rle\n",
            "  Downloading python_rle-0.0.3-py3-none-any.whl (6.1 kB)\n",
            "Requirement already satisfied: tqdm in /usr/local/lib/python3.7/dist-packages (from python-rle) (4.64.1)\n",
            "Installing collected packages: python-rle\n",
            "Successfully installed python-rle-0.0.3\n"
          ]
        }
      ]
    },
    {
      "cell_type": "code",
      "source": [
        "import rle\n",
        "\n",
        "\n",
        "def rle_encoder(data):\n",
        "    result = b''\n",
        "\n",
        "    for char, rl in zip(*rle.encode(data)):\n",
        "        \n",
        "        result += bytes([char])\n",
        "        if rl > 1:\n",
        "            result += bytes(str(rl).encode('ascii'))\n",
        "\n",
        "    return result"
      ],
      "metadata": {
        "id": "Szul_0_Ansmf"
      },
      "execution_count": null,
      "outputs": []
    },
    {
      "cell_type": "code",
      "source": [
        "c = CodecSampler(rle_encoder, alphabet=range(10))"
      ],
      "metadata": {
        "id": "X103OG6Fojef"
      },
      "execution_count": null,
      "outputs": []
    },
    {
      "cell_type": "code",
      "source": [
        "(get_next_token(bytes('\\x01', 'ascii'), c, width=1,height=1, n=6))"
      ],
      "metadata": {
        "colab": {
          "base_uri": "https://localhost:8080/"
        },
        "id": "AZHVOoa2s6_m",
        "outputId": "c2f04e76-566f-4c8b-f7da-c2c567903ce2"
      },
      "execution_count": null,
      "outputs": [
        {
          "output_type": "execute_result",
          "data": {
            "text/plain": [
              "[1,\n",
              " tensor(8),\n",
              " tensor(8),\n",
              " tensor(8),\n",
              " tensor(8),\n",
              " tensor(8),\n",
              " tensor(8),\n",
              " tensor(8),\n",
              " tensor(8),\n",
              " tensor(8),\n",
              " tensor(8),\n",
              " tensor(8),\n",
              " tensor(8),\n",
              " tensor(8),\n",
              " tensor(8),\n",
              " tensor(8),\n",
              " tensor(8),\n",
              " tensor(8),\n",
              " tensor(8)]"
            ]
          },
          "metadata": {},
          "execution_count": 21
        }
      ]
    },
    {
      "cell_type": "code",
      "source": [
        "(get_next_token(bytes('\\x01', 'ascii'), c, width=4,height=2, n=10))"
      ],
      "metadata": {
        "colab": {
          "base_uri": "https://localhost:8080/"
        },
        "id": "CazadsKpoleX",
        "outputId": "6a844221-6d33-44f2-94ed-76bec9ea1c91"
      },
      "execution_count": null,
      "outputs": [
        {
          "output_type": "execute_result",
          "data": {
            "text/plain": [
              "[1,\n",
              " tensor(6),\n",
              " tensor(6),\n",
              " tensor(6),\n",
              " tensor(6),\n",
              " tensor(6),\n",
              " tensor(5),\n",
              " tensor(5),\n",
              " tensor(5),\n",
              " tensor(5),\n",
              " tensor(5),\n",
              " tensor(5),\n",
              " tensor(5),\n",
              " tensor(5),\n",
              " tensor(5),\n",
              " tensor(5),\n",
              " tensor(5),\n",
              " tensor(5),\n",
              " tensor(9),\n",
              " tensor(7),\n",
              " tensor(7),\n",
              " tensor(7),\n",
              " tensor(7),\n",
              " tensor(7),\n",
              " tensor(5),\n",
              " tensor(5),\n",
              " tensor(5),\n",
              " tensor(5),\n",
              " tensor(5),\n",
              " tensor(5),\n",
              " tensor(5)]"
            ]
          },
          "metadata": {},
          "execution_count": 22
        }
      ]
    },
    {
      "cell_type": "markdown",
      "source": [
        "As expected, under this model, high likelyhood is given to strings with many repeats. The model makes this implicit statistical assumption."
      ],
      "metadata": {
        "id": "EXE47hzesVji"
      }
    },
    {
      "cell_type": "code",
      "source": [
        "!pip install lzw3"
      ],
      "metadata": {
        "id": "VFR_si1ZsUvW",
        "colab": {
          "base_uri": "https://localhost:8080/"
        },
        "outputId": "1172b787-7278-4545-bcce-9b7a69e137f8"
      },
      "execution_count": null,
      "outputs": [
        {
          "output_type": "stream",
          "name": "stdout",
          "text": [
            "Looking in indexes: https://pypi.org/simple, https://us-python.pkg.dev/colab-wheels/public/simple/\n",
            "Collecting lzw3\n",
            "  Downloading lzw3-0.4-py3-none-any.whl (24 kB)\n",
            "Installing collected packages: lzw3\n",
            "Successfully installed lzw3-0.4\n"
          ]
        }
      ]
    },
    {
      "cell_type": "code",
      "source": [
        "import lzw3"
      ],
      "metadata": {
        "id": "2bdQsMOppm-S"
      },
      "execution_count": null,
      "outputs": []
    },
    {
      "cell_type": "code",
      "source": [
        "from lzw3 import *"
      ],
      "metadata": {
        "id": "0KJbPQmlrDVI"
      },
      "execution_count": null,
      "outputs": []
    },
    {
      "cell_type": "code",
      "source": [
        "lzw3"
      ],
      "metadata": {
        "colab": {
          "base_uri": "https://localhost:8080/"
        },
        "id": "KpojdZ49JqZF",
        "outputId": "15870547-1e9f-4002-9890-dba129cd0d67"
      },
      "execution_count": null,
      "outputs": [
        {
          "output_type": "execute_result",
          "data": {
            "text/plain": [
              "<module 'lzw3' from '/usr/local/lib/python3.7/dist-packages/lzw3/__init__.py'>"
            ]
          },
          "metadata": {},
          "execution_count": 33
        }
      ]
    },
    {
      "cell_type": "code",
      "source": [],
      "metadata": {
        "id": "SNOMtX4BJxJO"
      },
      "execution_count": null,
      "outputs": []
    }
  ]
}
